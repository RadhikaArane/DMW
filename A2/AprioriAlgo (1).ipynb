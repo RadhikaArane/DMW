{
  "cells": [
    {
      "cell_type": "code",
      "execution_count": 1,
      "id": "7053e775",
      "metadata": {
        "id": "7053e775"
      },
      "outputs": [],
      "source": [
        "import pandas as pd\n",
        "import numpy as np\n",
        "import math"
      ]
    },
    {
      "cell_type": "code",
      "execution_count": 5,
      "id": "e43de405",
      "metadata": {
        "id": "e43de405"
      },
      "outputs": [],
      "source": [
        "data = pd.read_csv('GroceryStore.csv')"
      ]
    },
    {
      "cell_type": "code",
      "execution_count": 6,
      "id": "1e2a660d",
      "metadata": {
        "scrolled": false,
        "colab": {
          "base_uri": "https://localhost:8080/"
        },
        "id": "1e2a660d",
        "outputId": "9d3e1671-b071-450f-f0b5-9a80ea0c5b7b"
      },
      "outputs": [
        {
          "output_type": "execute_result",
          "data": {
            "text/plain": [
              "(20, 1)"
            ]
          },
          "metadata": {},
          "execution_count": 6
        }
      ],
      "source": [
        "data.shape"
      ]
    },
    {
      "cell_type": "code",
      "execution_count": 7,
      "id": "8ae7ab82",
      "metadata": {
        "colab": {
          "base_uri": "https://localhost:8080/",
          "height": 677
        },
        "id": "8ae7ab82",
        "outputId": "d026b592-02c0-44e0-ccce-83e2be0480af"
      },
      "outputs": [
        {
          "output_type": "execute_result",
          "data": {
            "text/plain": [
              "                              Item\n",
              "0               MILK,BREAD,BISCUIT\n",
              "1    BREAD,MILK,BISCUIT,CORNFLAKES\n",
              "2              BREAD,TEA,BOURNVITA\n",
              "3             JAM,MAGGI,BREAD,MILK\n",
              "4                MAGGI,TEA,BISCUIT\n",
              "5              BREAD,TEA,BOURNVITA\n",
              "6             MAGGI,TEA,CORNFLAKES\n",
              "7          MAGGI,BREAD,TEA,BISCUIT\n",
              "8              JAM,MAGGI,BREAD,TEA\n",
              "9                       BREAD,MILK\n",
              "10  COFFEE,COCK,BISCUIT,CORNFLAKES\n",
              "11  COFFEE,COCK,BISCUIT,CORNFLAKES\n",
              "12          COFFEE,SUGER,BOURNVITA\n",
              "13               BREAD,COFFEE,COCK\n",
              "14             BREAD,SUGER,BISCUIT\n",
              "15         COFFEE,SUGER,CORNFLAKES\n",
              "16           BREAD,SUGER,BOURNVITA\n",
              "17              BREAD,COFFEE,SUGER\n",
              "18              BREAD,COFFEE,SUGER\n",
              "19      TEA,MILK,COFFEE,CORNFLAKES"
            ],
            "text/html": [
              "\n",
              "  <div id=\"df-8672c9be-0041-4277-bc1b-a4ba66b2e058\">\n",
              "    <div class=\"colab-df-container\">\n",
              "      <div>\n",
              "<style scoped>\n",
              "    .dataframe tbody tr th:only-of-type {\n",
              "        vertical-align: middle;\n",
              "    }\n",
              "\n",
              "    .dataframe tbody tr th {\n",
              "        vertical-align: top;\n",
              "    }\n",
              "\n",
              "    .dataframe thead th {\n",
              "        text-align: right;\n",
              "    }\n",
              "</style>\n",
              "<table border=\"1\" class=\"dataframe\">\n",
              "  <thead>\n",
              "    <tr style=\"text-align: right;\">\n",
              "      <th></th>\n",
              "      <th>Item</th>\n",
              "    </tr>\n",
              "  </thead>\n",
              "  <tbody>\n",
              "    <tr>\n",
              "      <th>0</th>\n",
              "      <td>MILK,BREAD,BISCUIT</td>\n",
              "    </tr>\n",
              "    <tr>\n",
              "      <th>1</th>\n",
              "      <td>BREAD,MILK,BISCUIT,CORNFLAKES</td>\n",
              "    </tr>\n",
              "    <tr>\n",
              "      <th>2</th>\n",
              "      <td>BREAD,TEA,BOURNVITA</td>\n",
              "    </tr>\n",
              "    <tr>\n",
              "      <th>3</th>\n",
              "      <td>JAM,MAGGI,BREAD,MILK</td>\n",
              "    </tr>\n",
              "    <tr>\n",
              "      <th>4</th>\n",
              "      <td>MAGGI,TEA,BISCUIT</td>\n",
              "    </tr>\n",
              "    <tr>\n",
              "      <th>5</th>\n",
              "      <td>BREAD,TEA,BOURNVITA</td>\n",
              "    </tr>\n",
              "    <tr>\n",
              "      <th>6</th>\n",
              "      <td>MAGGI,TEA,CORNFLAKES</td>\n",
              "    </tr>\n",
              "    <tr>\n",
              "      <th>7</th>\n",
              "      <td>MAGGI,BREAD,TEA,BISCUIT</td>\n",
              "    </tr>\n",
              "    <tr>\n",
              "      <th>8</th>\n",
              "      <td>JAM,MAGGI,BREAD,TEA</td>\n",
              "    </tr>\n",
              "    <tr>\n",
              "      <th>9</th>\n",
              "      <td>BREAD,MILK</td>\n",
              "    </tr>\n",
              "    <tr>\n",
              "      <th>10</th>\n",
              "      <td>COFFEE,COCK,BISCUIT,CORNFLAKES</td>\n",
              "    </tr>\n",
              "    <tr>\n",
              "      <th>11</th>\n",
              "      <td>COFFEE,COCK,BISCUIT,CORNFLAKES</td>\n",
              "    </tr>\n",
              "    <tr>\n",
              "      <th>12</th>\n",
              "      <td>COFFEE,SUGER,BOURNVITA</td>\n",
              "    </tr>\n",
              "    <tr>\n",
              "      <th>13</th>\n",
              "      <td>BREAD,COFFEE,COCK</td>\n",
              "    </tr>\n",
              "    <tr>\n",
              "      <th>14</th>\n",
              "      <td>BREAD,SUGER,BISCUIT</td>\n",
              "    </tr>\n",
              "    <tr>\n",
              "      <th>15</th>\n",
              "      <td>COFFEE,SUGER,CORNFLAKES</td>\n",
              "    </tr>\n",
              "    <tr>\n",
              "      <th>16</th>\n",
              "      <td>BREAD,SUGER,BOURNVITA</td>\n",
              "    </tr>\n",
              "    <tr>\n",
              "      <th>17</th>\n",
              "      <td>BREAD,COFFEE,SUGER</td>\n",
              "    </tr>\n",
              "    <tr>\n",
              "      <th>18</th>\n",
              "      <td>BREAD,COFFEE,SUGER</td>\n",
              "    </tr>\n",
              "    <tr>\n",
              "      <th>19</th>\n",
              "      <td>TEA,MILK,COFFEE,CORNFLAKES</td>\n",
              "    </tr>\n",
              "  </tbody>\n",
              "</table>\n",
              "</div>\n",
              "      <button class=\"colab-df-convert\" onclick=\"convertToInteractive('df-8672c9be-0041-4277-bc1b-a4ba66b2e058')\"\n",
              "              title=\"Convert this dataframe to an interactive table.\"\n",
              "              style=\"display:none;\">\n",
              "        \n",
              "  <svg xmlns=\"http://www.w3.org/2000/svg\" height=\"24px\"viewBox=\"0 0 24 24\"\n",
              "       width=\"24px\">\n",
              "    <path d=\"M0 0h24v24H0V0z\" fill=\"none\"/>\n",
              "    <path d=\"M18.56 5.44l.94 2.06.94-2.06 2.06-.94-2.06-.94-.94-2.06-.94 2.06-2.06.94zm-11 1L8.5 8.5l.94-2.06 2.06-.94-2.06-.94L8.5 2.5l-.94 2.06-2.06.94zm10 10l.94 2.06.94-2.06 2.06-.94-2.06-.94-.94-2.06-.94 2.06-2.06.94z\"/><path d=\"M17.41 7.96l-1.37-1.37c-.4-.4-.92-.59-1.43-.59-.52 0-1.04.2-1.43.59L10.3 9.45l-7.72 7.72c-.78.78-.78 2.05 0 2.83L4 21.41c.39.39.9.59 1.41.59.51 0 1.02-.2 1.41-.59l7.78-7.78 2.81-2.81c.8-.78.8-2.07 0-2.86zM5.41 20L4 18.59l7.72-7.72 1.47 1.35L5.41 20z\"/>\n",
              "  </svg>\n",
              "      </button>\n",
              "      \n",
              "  <style>\n",
              "    .colab-df-container {\n",
              "      display:flex;\n",
              "      flex-wrap:wrap;\n",
              "      gap: 12px;\n",
              "    }\n",
              "\n",
              "    .colab-df-convert {\n",
              "      background-color: #E8F0FE;\n",
              "      border: none;\n",
              "      border-radius: 50%;\n",
              "      cursor: pointer;\n",
              "      display: none;\n",
              "      fill: #1967D2;\n",
              "      height: 32px;\n",
              "      padding: 0 0 0 0;\n",
              "      width: 32px;\n",
              "    }\n",
              "\n",
              "    .colab-df-convert:hover {\n",
              "      background-color: #E2EBFA;\n",
              "      box-shadow: 0px 1px 2px rgba(60, 64, 67, 0.3), 0px 1px 3px 1px rgba(60, 64, 67, 0.15);\n",
              "      fill: #174EA6;\n",
              "    }\n",
              "\n",
              "    [theme=dark] .colab-df-convert {\n",
              "      background-color: #3B4455;\n",
              "      fill: #D2E3FC;\n",
              "    }\n",
              "\n",
              "    [theme=dark] .colab-df-convert:hover {\n",
              "      background-color: #434B5C;\n",
              "      box-shadow: 0px 1px 3px 1px rgba(0, 0, 0, 0.15);\n",
              "      filter: drop-shadow(0px 1px 2px rgba(0, 0, 0, 0.3));\n",
              "      fill: #FFFFFF;\n",
              "    }\n",
              "  </style>\n",
              "\n",
              "      <script>\n",
              "        const buttonEl =\n",
              "          document.querySelector('#df-8672c9be-0041-4277-bc1b-a4ba66b2e058 button.colab-df-convert');\n",
              "        buttonEl.style.display =\n",
              "          google.colab.kernel.accessAllowed ? 'block' : 'none';\n",
              "\n",
              "        async function convertToInteractive(key) {\n",
              "          const element = document.querySelector('#df-8672c9be-0041-4277-bc1b-a4ba66b2e058');\n",
              "          const dataTable =\n",
              "            await google.colab.kernel.invokeFunction('convertToInteractive',\n",
              "                                                     [key], {});\n",
              "          if (!dataTable) return;\n",
              "\n",
              "          const docLinkHtml = 'Like what you see? Visit the ' +\n",
              "            '<a target=\"_blank\" href=https://colab.research.google.com/notebooks/data_table.ipynb>data table notebook</a>'\n",
              "            + ' to learn more about interactive tables.';\n",
              "          element.innerHTML = '';\n",
              "          dataTable['output_type'] = 'display_data';\n",
              "          await google.colab.output.renderOutput(dataTable, element);\n",
              "          const docLink = document.createElement('div');\n",
              "          docLink.innerHTML = docLinkHtml;\n",
              "          element.appendChild(docLink);\n",
              "        }\n",
              "      </script>\n",
              "    </div>\n",
              "  </div>\n",
              "  "
            ]
          },
          "metadata": {},
          "execution_count": 7
        }
      ],
      "source": [
        "data"
      ]
    },
    {
      "cell_type": "code",
      "execution_count": 8,
      "id": "ae3a3970",
      "metadata": {
        "id": "ae3a3970"
      },
      "outputs": [],
      "source": [
        "data.index.rename('TID', inplace=True)"
      ]
    },
    {
      "cell_type": "code",
      "execution_count": 9,
      "id": "d2c3cf6c",
      "metadata": {
        "colab": {
          "base_uri": "https://localhost:8080/"
        },
        "id": "d2c3cf6c",
        "outputId": "62cdb425-abe6-491e-9b09-1c2b51c24ced"
      },
      "outputs": [
        {
          "output_type": "execute_result",
          "data": {
            "text/plain": [
              "TID\n",
              "0                  [MILK, BREAD, BISCUIT]\n",
              "1      [BREAD, MILK, BISCUIT, CORNFLAKES]\n",
              "2                 [BREAD, TEA, BOURNVITA]\n",
              "3               [JAM, MAGGI, BREAD, MILK]\n",
              "4                   [MAGGI, TEA, BISCUIT]\n",
              "5                 [BREAD, TEA, BOURNVITA]\n",
              "6                [MAGGI, TEA, CORNFLAKES]\n",
              "7            [MAGGI, BREAD, TEA, BISCUIT]\n",
              "8                [JAM, MAGGI, BREAD, TEA]\n",
              "9                           [BREAD, MILK]\n",
              "10    [COFFEE, COCK, BISCUIT, CORNFLAKES]\n",
              "11    [COFFEE, COCK, BISCUIT, CORNFLAKES]\n",
              "12             [COFFEE, SUGER, BOURNVITA]\n",
              "13                  [BREAD, COFFEE, COCK]\n",
              "14                [BREAD, SUGER, BISCUIT]\n",
              "15            [COFFEE, SUGER, CORNFLAKES]\n",
              "16              [BREAD, SUGER, BOURNVITA]\n",
              "17                 [BREAD, COFFEE, SUGER]\n",
              "18                 [BREAD, COFFEE, SUGER]\n",
              "19        [TEA, MILK, COFFEE, CORNFLAKES]\n",
              "Name: Item, dtype: object"
            ]
          },
          "metadata": {},
          "execution_count": 9
        }
      ],
      "source": [
        "trans_df = data.Item.str.split(\",\")\n",
        "trans_df"
      ]
    },
    {
      "cell_type": "code",
      "execution_count": 10,
      "id": "b5ac096f",
      "metadata": {
        "id": "b5ac096f"
      },
      "outputs": [],
      "source": [
        "def prune(data,supp):\n",
        "    \n",
        "    df = data[data.supp_count >= supp] \n",
        "    return df"
      ]
    },
    {
      "cell_type": "code",
      "execution_count": 11,
      "id": "955dd494",
      "metadata": {
        "id": "955dd494"
      },
      "outputs": [],
      "source": [
        "def count_itemset(transaction_df, itemsets):\n",
        "    count_item = {}\n",
        "    for item_set in itemsets:\n",
        "        set_A = set(item_set)\n",
        "        for row in trans_df:\n",
        "            set_B = set(row)\n",
        "            if set_B.intersection(set_A) == set_A: \n",
        "                if item_set in count_item.keys():\n",
        "                    count_item[item_set] += 1   \n",
        "                else:\n",
        "                    count_item[item_set] = 1   \n",
        "    data = pd.DataFrame()\n",
        "    data['item_sets'] = count_item.keys()\n",
        "    data['supp_count'] = count_item.values()\n",
        "    return data"
      ]
    },
    {
      "cell_type": "code",
      "execution_count": 12,
      "id": "110765a0",
      "metadata": {
        "id": "110765a0"
      },
      "outputs": [],
      "source": [
        "def count_item(trans_items): \n",
        "    count_ind_item = {}\n",
        "    for row in trans_items:\n",
        "        for i in range(len(row)):\n",
        "            if row[i] in count_ind_item.keys():\n",
        "                count_ind_item[row[i]] += 1\n",
        "            else:\n",
        "                count_ind_item[row[i]] = 1\n",
        "                data = pd.DataFrame()\n",
        "    data['item_sets'] = count_ind_item.keys()\n",
        "    data['supp_count'] = count_ind_item.values()\n",
        "    data = data.sort_values('item_sets')\n",
        "    return data"
      ]
    },
    {
      "cell_type": "code",
      "execution_count": 13,
      "id": "72afe993",
      "metadata": {
        "id": "72afe993"
      },
      "outputs": [],
      "source": [
        "def join(list_of_items):\n",
        "    itemsets = []\n",
        "    i = 1\n",
        "    for entry in list_of_items:\n",
        "        proceding_items = list_of_items[i:]\n",
        "        for item in proceding_items:\n",
        "            if(type(item) is str):\n",
        "                if entry != item:\n",
        "                    tuples = (entry, item)\n",
        "                    itemsets.append(tuples)\n",
        "            else:\n",
        "                if entry[0:-1] == item[0:-1]:\n",
        "                    tuples = entry+item[1:]\n",
        "                    itemsets.append(tuples)\n",
        "        i = i+1\n",
        "    if(len(itemsets) == 0):\n",
        "        return None\n",
        "    return itemsets"
      ]
    },
    {
      "cell_type": "code",
      "execution_count": 14,
      "id": "acf7aac6",
      "metadata": {
        "id": "acf7aac6"
      },
      "outputs": [],
      "source": [
        "def apriori(trans_data,supp=3, con=0.5):\n",
        "    freq = pd.DataFrame()\n",
        "    df = count_item(trans_data)\n",
        "    while(len(df) != 0):\n",
        "        df = prune(df, supp)\n",
        "        if len(df) > 1 or (len(df) == 1 and int(df.supp_count >= supp)):\n",
        "            freq = df\n",
        "        itemsets = join(df.item_sets)\n",
        "        if(itemsets is None):\n",
        "            return freq\n",
        "        df = count_itemset(trans_data, itemsets)\n",
        "    return df"
      ]
    },
    {
      "cell_type": "code",
      "execution_count": 15,
      "id": "e68dad2c",
      "metadata": {
        "id": "e68dad2c"
      },
      "outputs": [],
      "source": [
        "freq_item_sets = apriori(trans_df,4)"
      ]
    },
    {
      "cell_type": "code",
      "execution_count": 16,
      "id": "37dc9f50",
      "metadata": {
        "id": "37dc9f50"
      },
      "outputs": [],
      "source": [
        "def calculate_conf(value1, value2):\n",
        "    return round(int(value1)/int(value2) * 100, 2)"
      ]
    },
    {
      "cell_type": "code",
      "execution_count": 17,
      "id": "e076d695",
      "metadata": {
        "id": "e076d695"
      },
      "outputs": [],
      "source": [
        "def strong_rules(freq_item_sets, threshold):\n",
        "\n",
        "    confidences = {}\n",
        "    for row in freq_item_sets.item_sets:\n",
        "        for i in range(len(row)):\n",
        "            for j in range(len(row)):\n",
        "                 if i != j:\n",
        "                    tuples = (row[i], row[j])\n",
        "                    conf = calculate_conf(freq_item_sets[freq_item_sets.item_sets == row].supp_count, count_item(trans_df)[count_item(trans_df).item_sets == row[i]].supp_count)\n",
        "                    confidences[tuples] = conf\n",
        "                    conf_df = pd.DataFrame()\n",
        "    conf_df['item_set'] = confidences.keys()\n",
        "    conf_df['confidence'] = confidences.values()\n",
        "\n",
        "    return conf_df[conf_df.confidence >= threshold]"
      ]
    },
    {
      "cell_type": "code",
      "execution_count": 18,
      "id": "e64ebca4",
      "metadata": {
        "colab": {
          "base_uri": "https://localhost:8080/",
          "height": 363
        },
        "id": "e64ebca4",
        "outputId": "7602669a-1b9c-4b15-ea59-401af952e63f"
      },
      "outputs": [
        {
          "output_type": "execute_result",
          "data": {
            "text/plain": [
              "                item_set  confidence\n",
              "0       (BISCUIT, BREAD)       57.14\n",
              "3          (MILK, BREAD)       80.00\n",
              "5         (SUGER, BREAD)       66.67\n",
              "7           (TEA, BREAD)       57.14\n",
              "8   (COFFEE, CORNFLAKES)       50.00\n",
              "9   (CORNFLAKES, COFFEE)       66.67\n",
              "10       (COFFEE, SUGER)       50.00\n",
              "11       (SUGER, COFFEE)       66.67\n",
              "12          (MAGGI, TEA)       80.00\n",
              "13          (TEA, MAGGI)       57.14"
            ],
            "text/html": [
              "\n",
              "  <div id=\"df-a960bf14-768c-4fb6-9b8f-d486223babc1\">\n",
              "    <div class=\"colab-df-container\">\n",
              "      <div>\n",
              "<style scoped>\n",
              "    .dataframe tbody tr th:only-of-type {\n",
              "        vertical-align: middle;\n",
              "    }\n",
              "\n",
              "    .dataframe tbody tr th {\n",
              "        vertical-align: top;\n",
              "    }\n",
              "\n",
              "    .dataframe thead th {\n",
              "        text-align: right;\n",
              "    }\n",
              "</style>\n",
              "<table border=\"1\" class=\"dataframe\">\n",
              "  <thead>\n",
              "    <tr style=\"text-align: right;\">\n",
              "      <th></th>\n",
              "      <th>item_set</th>\n",
              "      <th>confidence</th>\n",
              "    </tr>\n",
              "  </thead>\n",
              "  <tbody>\n",
              "    <tr>\n",
              "      <th>0</th>\n",
              "      <td>(BISCUIT, BREAD)</td>\n",
              "      <td>57.14</td>\n",
              "    </tr>\n",
              "    <tr>\n",
              "      <th>3</th>\n",
              "      <td>(MILK, BREAD)</td>\n",
              "      <td>80.00</td>\n",
              "    </tr>\n",
              "    <tr>\n",
              "      <th>5</th>\n",
              "      <td>(SUGER, BREAD)</td>\n",
              "      <td>66.67</td>\n",
              "    </tr>\n",
              "    <tr>\n",
              "      <th>7</th>\n",
              "      <td>(TEA, BREAD)</td>\n",
              "      <td>57.14</td>\n",
              "    </tr>\n",
              "    <tr>\n",
              "      <th>8</th>\n",
              "      <td>(COFFEE, CORNFLAKES)</td>\n",
              "      <td>50.00</td>\n",
              "    </tr>\n",
              "    <tr>\n",
              "      <th>9</th>\n",
              "      <td>(CORNFLAKES, COFFEE)</td>\n",
              "      <td>66.67</td>\n",
              "    </tr>\n",
              "    <tr>\n",
              "      <th>10</th>\n",
              "      <td>(COFFEE, SUGER)</td>\n",
              "      <td>50.00</td>\n",
              "    </tr>\n",
              "    <tr>\n",
              "      <th>11</th>\n",
              "      <td>(SUGER, COFFEE)</td>\n",
              "      <td>66.67</td>\n",
              "    </tr>\n",
              "    <tr>\n",
              "      <th>12</th>\n",
              "      <td>(MAGGI, TEA)</td>\n",
              "      <td>80.00</td>\n",
              "    </tr>\n",
              "    <tr>\n",
              "      <th>13</th>\n",
              "      <td>(TEA, MAGGI)</td>\n",
              "      <td>57.14</td>\n",
              "    </tr>\n",
              "  </tbody>\n",
              "</table>\n",
              "</div>\n",
              "      <button class=\"colab-df-convert\" onclick=\"convertToInteractive('df-a960bf14-768c-4fb6-9b8f-d486223babc1')\"\n",
              "              title=\"Convert this dataframe to an interactive table.\"\n",
              "              style=\"display:none;\">\n",
              "        \n",
              "  <svg xmlns=\"http://www.w3.org/2000/svg\" height=\"24px\"viewBox=\"0 0 24 24\"\n",
              "       width=\"24px\">\n",
              "    <path d=\"M0 0h24v24H0V0z\" fill=\"none\"/>\n",
              "    <path d=\"M18.56 5.44l.94 2.06.94-2.06 2.06-.94-2.06-.94-.94-2.06-.94 2.06-2.06.94zm-11 1L8.5 8.5l.94-2.06 2.06-.94-2.06-.94L8.5 2.5l-.94 2.06-2.06.94zm10 10l.94 2.06.94-2.06 2.06-.94-2.06-.94-.94-2.06-.94 2.06-2.06.94z\"/><path d=\"M17.41 7.96l-1.37-1.37c-.4-.4-.92-.59-1.43-.59-.52 0-1.04.2-1.43.59L10.3 9.45l-7.72 7.72c-.78.78-.78 2.05 0 2.83L4 21.41c.39.39.9.59 1.41.59.51 0 1.02-.2 1.41-.59l7.78-7.78 2.81-2.81c.8-.78.8-2.07 0-2.86zM5.41 20L4 18.59l7.72-7.72 1.47 1.35L5.41 20z\"/>\n",
              "  </svg>\n",
              "      </button>\n",
              "      \n",
              "  <style>\n",
              "    .colab-df-container {\n",
              "      display:flex;\n",
              "      flex-wrap:wrap;\n",
              "      gap: 12px;\n",
              "    }\n",
              "\n",
              "    .colab-df-convert {\n",
              "      background-color: #E8F0FE;\n",
              "      border: none;\n",
              "      border-radius: 50%;\n",
              "      cursor: pointer;\n",
              "      display: none;\n",
              "      fill: #1967D2;\n",
              "      height: 32px;\n",
              "      padding: 0 0 0 0;\n",
              "      width: 32px;\n",
              "    }\n",
              "\n",
              "    .colab-df-convert:hover {\n",
              "      background-color: #E2EBFA;\n",
              "      box-shadow: 0px 1px 2px rgba(60, 64, 67, 0.3), 0px 1px 3px 1px rgba(60, 64, 67, 0.15);\n",
              "      fill: #174EA6;\n",
              "    }\n",
              "\n",
              "    [theme=dark] .colab-df-convert {\n",
              "      background-color: #3B4455;\n",
              "      fill: #D2E3FC;\n",
              "    }\n",
              "\n",
              "    [theme=dark] .colab-df-convert:hover {\n",
              "      background-color: #434B5C;\n",
              "      box-shadow: 0px 1px 3px 1px rgba(0, 0, 0, 0.15);\n",
              "      filter: drop-shadow(0px 1px 2px rgba(0, 0, 0, 0.3));\n",
              "      fill: #FFFFFF;\n",
              "    }\n",
              "  </style>\n",
              "\n",
              "      <script>\n",
              "        const buttonEl =\n",
              "          document.querySelector('#df-a960bf14-768c-4fb6-9b8f-d486223babc1 button.colab-df-convert');\n",
              "        buttonEl.style.display =\n",
              "          google.colab.kernel.accessAllowed ? 'block' : 'none';\n",
              "\n",
              "        async function convertToInteractive(key) {\n",
              "          const element = document.querySelector('#df-a960bf14-768c-4fb6-9b8f-d486223babc1');\n",
              "          const dataTable =\n",
              "            await google.colab.kernel.invokeFunction('convertToInteractive',\n",
              "                                                     [key], {});\n",
              "          if (!dataTable) return;\n",
              "\n",
              "          const docLinkHtml = 'Like what you see? Visit the ' +\n",
              "            '<a target=\"_blank\" href=https://colab.research.google.com/notebooks/data_table.ipynb>data table notebook</a>'\n",
              "            + ' to learn more about interactive tables.';\n",
              "          element.innerHTML = '';\n",
              "          dataTable['output_type'] = 'display_data';\n",
              "          await google.colab.output.renderOutput(dataTable, element);\n",
              "          const docLink = document.createElement('div');\n",
              "          docLink.innerHTML = docLinkHtml;\n",
              "          element.appendChild(docLink);\n",
              "        }\n",
              "      </script>\n",
              "    </div>\n",
              "  </div>\n",
              "  "
            ]
          },
          "metadata": {},
          "execution_count": 18
        }
      ],
      "source": [
        "strong_rules(freq_item_sets, 50.0)"
      ]
    },
    {
      "cell_type": "code",
      "execution_count": 19,
      "id": "13f29314",
      "metadata": {
        "id": "13f29314"
      },
      "outputs": [],
      "source": [
        "from functools import reduce\n",
        "import operator"
      ]
    },
    {
      "cell_type": "code",
      "execution_count": 20,
      "id": "ba048508",
      "metadata": {
        "id": "ba048508"
      },
      "outputs": [],
      "source": [
        "def interesting_rules(freq_item_sets):\n",
        "    lifts = {}\n",
        "    prob_of_items = []\n",
        "    for row in freq_item_sets.item_sets:\n",
        "        num_of_items = len(row)\n",
        "        prob_all = freq_item_sets[freq_item_sets.item_sets == row].supp_count / 18\n",
        "        for i in range(num_of_items):\n",
        "            prob_of_items.append(count_item(trans_df)[count_item(trans_df).item_sets == row[i]].supp_count / 18)"
      ]
    },
    {
      "cell_type": "code",
      "execution_count": 21,
      "id": "60ea0ebe",
      "metadata": {
        "id": "60ea0ebe"
      },
      "outputs": [],
      "source": [
        "def strong_rules(freq_item_sets, threshold):\n",
        "    confidences = {}\n",
        "    for row in freq_item_sets.item_sets:\n",
        "        for i in range(len(row)):\n",
        "            for j in range(len(row)):\n",
        "                 if i != j:\n",
        "                    tuples = (row[i], row[j])\n",
        "                    conf = calculate_conf(freq_item_sets[freq_item_sets.item_sets == row].supp_count, count_item(trans_df)[count_item(trans_df).item_sets == row[i]].supp_count)\n",
        "                    confidences[tuples] = conf\n",
        "    conf_df = pd.DataFrame()\n",
        "    conf_df['item_set'] = confidences.keys()\n",
        "    conf_df['confidence'] = confidences.values()\n",
        "    return conf_df[conf_df.confidence >= threshold]"
      ]
    },
    {
      "cell_type": "code",
      "execution_count": 22,
      "id": "57eb55af",
      "metadata": {
        "colab": {
          "base_uri": "https://localhost:8080/",
          "height": 363
        },
        "id": "57eb55af",
        "outputId": "9a421a4d-6d62-4e5a-e55e-32b80ae0cc4a"
      },
      "outputs": [
        {
          "output_type": "execute_result",
          "data": {
            "text/plain": [
              "                item_set  confidence\n",
              "0       (BISCUIT, BREAD)       57.14\n",
              "3          (MILK, BREAD)       80.00\n",
              "5         (SUGER, BREAD)       66.67\n",
              "7           (TEA, BREAD)       57.14\n",
              "8   (COFFEE, CORNFLAKES)       50.00\n",
              "9   (CORNFLAKES, COFFEE)       66.67\n",
              "10       (COFFEE, SUGER)       50.00\n",
              "11       (SUGER, COFFEE)       66.67\n",
              "12          (MAGGI, TEA)       80.00\n",
              "13          (TEA, MAGGI)       57.14"
            ],
            "text/html": [
              "\n",
              "  <div id=\"df-60e310ac-13e6-4270-aa75-7c5bb267726a\">\n",
              "    <div class=\"colab-df-container\">\n",
              "      <div>\n",
              "<style scoped>\n",
              "    .dataframe tbody tr th:only-of-type {\n",
              "        vertical-align: middle;\n",
              "    }\n",
              "\n",
              "    .dataframe tbody tr th {\n",
              "        vertical-align: top;\n",
              "    }\n",
              "\n",
              "    .dataframe thead th {\n",
              "        text-align: right;\n",
              "    }\n",
              "</style>\n",
              "<table border=\"1\" class=\"dataframe\">\n",
              "  <thead>\n",
              "    <tr style=\"text-align: right;\">\n",
              "      <th></th>\n",
              "      <th>item_set</th>\n",
              "      <th>confidence</th>\n",
              "    </tr>\n",
              "  </thead>\n",
              "  <tbody>\n",
              "    <tr>\n",
              "      <th>0</th>\n",
              "      <td>(BISCUIT, BREAD)</td>\n",
              "      <td>57.14</td>\n",
              "    </tr>\n",
              "    <tr>\n",
              "      <th>3</th>\n",
              "      <td>(MILK, BREAD)</td>\n",
              "      <td>80.00</td>\n",
              "    </tr>\n",
              "    <tr>\n",
              "      <th>5</th>\n",
              "      <td>(SUGER, BREAD)</td>\n",
              "      <td>66.67</td>\n",
              "    </tr>\n",
              "    <tr>\n",
              "      <th>7</th>\n",
              "      <td>(TEA, BREAD)</td>\n",
              "      <td>57.14</td>\n",
              "    </tr>\n",
              "    <tr>\n",
              "      <th>8</th>\n",
              "      <td>(COFFEE, CORNFLAKES)</td>\n",
              "      <td>50.00</td>\n",
              "    </tr>\n",
              "    <tr>\n",
              "      <th>9</th>\n",
              "      <td>(CORNFLAKES, COFFEE)</td>\n",
              "      <td>66.67</td>\n",
              "    </tr>\n",
              "    <tr>\n",
              "      <th>10</th>\n",
              "      <td>(COFFEE, SUGER)</td>\n",
              "      <td>50.00</td>\n",
              "    </tr>\n",
              "    <tr>\n",
              "      <th>11</th>\n",
              "      <td>(SUGER, COFFEE)</td>\n",
              "      <td>66.67</td>\n",
              "    </tr>\n",
              "    <tr>\n",
              "      <th>12</th>\n",
              "      <td>(MAGGI, TEA)</td>\n",
              "      <td>80.00</td>\n",
              "    </tr>\n",
              "    <tr>\n",
              "      <th>13</th>\n",
              "      <td>(TEA, MAGGI)</td>\n",
              "      <td>57.14</td>\n",
              "    </tr>\n",
              "  </tbody>\n",
              "</table>\n",
              "</div>\n",
              "      <button class=\"colab-df-convert\" onclick=\"convertToInteractive('df-60e310ac-13e6-4270-aa75-7c5bb267726a')\"\n",
              "              title=\"Convert this dataframe to an interactive table.\"\n",
              "              style=\"display:none;\">\n",
              "        \n",
              "  <svg xmlns=\"http://www.w3.org/2000/svg\" height=\"24px\"viewBox=\"0 0 24 24\"\n",
              "       width=\"24px\">\n",
              "    <path d=\"M0 0h24v24H0V0z\" fill=\"none\"/>\n",
              "    <path d=\"M18.56 5.44l.94 2.06.94-2.06 2.06-.94-2.06-.94-.94-2.06-.94 2.06-2.06.94zm-11 1L8.5 8.5l.94-2.06 2.06-.94-2.06-.94L8.5 2.5l-.94 2.06-2.06.94zm10 10l.94 2.06.94-2.06 2.06-.94-2.06-.94-.94-2.06-.94 2.06-2.06.94z\"/><path d=\"M17.41 7.96l-1.37-1.37c-.4-.4-.92-.59-1.43-.59-.52 0-1.04.2-1.43.59L10.3 9.45l-7.72 7.72c-.78.78-.78 2.05 0 2.83L4 21.41c.39.39.9.59 1.41.59.51 0 1.02-.2 1.41-.59l7.78-7.78 2.81-2.81c.8-.78.8-2.07 0-2.86zM5.41 20L4 18.59l7.72-7.72 1.47 1.35L5.41 20z\"/>\n",
              "  </svg>\n",
              "      </button>\n",
              "      \n",
              "  <style>\n",
              "    .colab-df-container {\n",
              "      display:flex;\n",
              "      flex-wrap:wrap;\n",
              "      gap: 12px;\n",
              "    }\n",
              "\n",
              "    .colab-df-convert {\n",
              "      background-color: #E8F0FE;\n",
              "      border: none;\n",
              "      border-radius: 50%;\n",
              "      cursor: pointer;\n",
              "      display: none;\n",
              "      fill: #1967D2;\n",
              "      height: 32px;\n",
              "      padding: 0 0 0 0;\n",
              "      width: 32px;\n",
              "    }\n",
              "\n",
              "    .colab-df-convert:hover {\n",
              "      background-color: #E2EBFA;\n",
              "      box-shadow: 0px 1px 2px rgba(60, 64, 67, 0.3), 0px 1px 3px 1px rgba(60, 64, 67, 0.15);\n",
              "      fill: #174EA6;\n",
              "    }\n",
              "\n",
              "    [theme=dark] .colab-df-convert {\n",
              "      background-color: #3B4455;\n",
              "      fill: #D2E3FC;\n",
              "    }\n",
              "\n",
              "    [theme=dark] .colab-df-convert:hover {\n",
              "      background-color: #434B5C;\n",
              "      box-shadow: 0px 1px 3px 1px rgba(0, 0, 0, 0.15);\n",
              "      filter: drop-shadow(0px 1px 2px rgba(0, 0, 0, 0.3));\n",
              "      fill: #FFFFFF;\n",
              "    }\n",
              "  </style>\n",
              "\n",
              "      <script>\n",
              "        const buttonEl =\n",
              "          document.querySelector('#df-60e310ac-13e6-4270-aa75-7c5bb267726a button.colab-df-convert');\n",
              "        buttonEl.style.display =\n",
              "          google.colab.kernel.accessAllowed ? 'block' : 'none';\n",
              "\n",
              "        async function convertToInteractive(key) {\n",
              "          const element = document.querySelector('#df-60e310ac-13e6-4270-aa75-7c5bb267726a');\n",
              "          const dataTable =\n",
              "            await google.colab.kernel.invokeFunction('convertToInteractive',\n",
              "                                                     [key], {});\n",
              "          if (!dataTable) return;\n",
              "\n",
              "          const docLinkHtml = 'Like what you see? Visit the ' +\n",
              "            '<a target=\"_blank\" href=https://colab.research.google.com/notebooks/data_table.ipynb>data table notebook</a>'\n",
              "            + ' to learn more about interactive tables.';\n",
              "          element.innerHTML = '';\n",
              "          dataTable['output_type'] = 'display_data';\n",
              "          await google.colab.output.renderOutput(dataTable, element);\n",
              "          const docLink = document.createElement('div');\n",
              "          docLink.innerHTML = docLinkHtml;\n",
              "          element.appendChild(docLink);\n",
              "        }\n",
              "      </script>\n",
              "    </div>\n",
              "  </div>\n",
              "  "
            ]
          },
          "metadata": {},
          "execution_count": 22
        }
      ],
      "source": [
        "strong_rules(freq_item_sets, 50.0)"
      ]
    },
    {
      "cell_type": "code",
      "execution_count": 23,
      "id": "17c3a39d",
      "metadata": {
        "colab": {
          "base_uri": "https://localhost:8080/"
        },
        "id": "17c3a39d",
        "outputId": "e4fd2a1a-1760-4d47-e494-1dafd784e5cf"
      },
      "outputs": [
        {
          "output_type": "execute_result",
          "data": {
            "text/plain": [
              "TID\n",
              "0                  [MILK, BREAD, BISCUIT]\n",
              "1      [BREAD, MILK, BISCUIT, CORNFLAKES]\n",
              "2                 [BREAD, TEA, BOURNVITA]\n",
              "3               [JAM, MAGGI, BREAD, MILK]\n",
              "4                   [MAGGI, TEA, BISCUIT]\n",
              "5                 [BREAD, TEA, BOURNVITA]\n",
              "6                [MAGGI, TEA, CORNFLAKES]\n",
              "7            [MAGGI, BREAD, TEA, BISCUIT]\n",
              "8                [JAM, MAGGI, BREAD, TEA]\n",
              "9                           [BREAD, MILK]\n",
              "10    [COFFEE, COCK, BISCUIT, CORNFLAKES]\n",
              "11    [COFFEE, COCK, BISCUIT, CORNFLAKES]\n",
              "12             [COFFEE, SUGER, BOURNVITA]\n",
              "13                  [BREAD, COFFEE, COCK]\n",
              "14                [BREAD, SUGER, BISCUIT]\n",
              "15            [COFFEE, SUGER, CORNFLAKES]\n",
              "16              [BREAD, SUGER, BOURNVITA]\n",
              "17                 [BREAD, COFFEE, SUGER]\n",
              "18                 [BREAD, COFFEE, SUGER]\n",
              "19        [TEA, MILK, COFFEE, CORNFLAKES]\n",
              "Name: Item, dtype: object"
            ]
          },
          "metadata": {},
          "execution_count": 23
        }
      ],
      "source": [
        "trans_df"
      ]
    },
    {
      "cell_type": "code",
      "execution_count": 24,
      "id": "e3d3979c",
      "metadata": {
        "id": "e3d3979c"
      },
      "outputs": [],
      "source": [
        "lst = []\n",
        "for i in trans_df:\n",
        "    lst.extend(i)"
      ]
    },
    {
      "cell_type": "code",
      "execution_count": 25,
      "id": "497e0758",
      "metadata": {
        "colab": {
          "base_uri": "https://localhost:8080/"
        },
        "id": "497e0758",
        "outputId": "bdf632fb-4a3b-4954-d1b5-09374c887546"
      },
      "outputs": [
        {
          "output_type": "execute_result",
          "data": {
            "text/plain": [
              "66"
            ]
          },
          "metadata": {},
          "execution_count": 25
        }
      ],
      "source": [
        "n = len(lst)\n",
        "n"
      ]
    },
    {
      "cell_type": "code",
      "execution_count": 26,
      "id": "0569759c",
      "metadata": {
        "id": "0569759c"
      },
      "outputs": [],
      "source": [
        "mp = {}\n",
        "def countfreq(arr):\n",
        "    for i in arr:\n",
        "        if i in mp.keys():\n",
        "            mp[i] = mp[i] + 1\n",
        "        else:\n",
        "            mp[i] = 1\n",
        "countfreq(lst)"
      ]
    },
    {
      "cell_type": "code",
      "execution_count": 27,
      "id": "8b59bce3",
      "metadata": {
        "colab": {
          "base_uri": "https://localhost:8080/"
        },
        "id": "8b59bce3",
        "outputId": "0e9b6c57-e472-4f62-f3ce-f2e6076d642f"
      },
      "outputs": [
        {
          "output_type": "stream",
          "name": "stdout",
          "text": [
            "MILK  =  5\n",
            "BREAD  =  13\n",
            "BISCUIT  =  7\n",
            "CORNFLAKES  =  6\n",
            "TEA  =  7\n",
            "BOURNVITA  =  4\n",
            "JAM  =  2\n",
            "MAGGI  =  5\n",
            "COFFEE  =  8\n",
            "COCK  =  3\n",
            "SUGER  =  6\n"
          ]
        }
      ],
      "source": [
        "n = len(mp)\n",
        "for i in mp:\n",
        "    print(i,\" = \",mp[i])"
      ]
    },
    {
      "cell_type": "code",
      "execution_count": 27,
      "id": "c26283bd",
      "metadata": {
        "id": "c26283bd"
      },
      "outputs": [],
      "source": []
    }
  ],
  "metadata": {
    "kernelspec": {
      "display_name": "Python 3 (ipykernel)",
      "language": "python",
      "name": "python3"
    },
    "language_info": {
      "codemirror_mode": {
        "name": "ipython",
        "version": 3
      },
      "file_extension": ".py",
      "mimetype": "text/x-python",
      "name": "python",
      "nbconvert_exporter": "python",
      "pygments_lexer": "ipython3",
      "version": "3.10.6"
    },
    "onwer": {
      "class": "B.Tech B",
      "name": "Suyash Gholap",
      "rollno": "113",
      "subject": "Data Mining and Warehousing Lab"
    },
    "colab": {
      "provenance": []
    }
  },
  "nbformat": 4,
  "nbformat_minor": 5
}